{
 "cells": [
  {
   "cell_type": "code",
   "execution_count": 1,
   "metadata": {},
   "outputs": [],
   "source": [
    "import numpy as np\n",
    "import csv\n",
    "import matplotlib.pyplot as plt\n",
    "import matplotlib.gridspec as gridspec\n",
    "import math\n",
    "from mpl_toolkits.axes_grid1.inset_locator import inset_axes"
   ]
  },
  {
   "cell_type": "code",
   "execution_count": 2,
   "metadata": {},
   "outputs": [],
   "source": [
    "def readColumnsFromFile(filename):\n",
    "    \n",
    "    with open(filename) as infile:\n",
    "        reader = csv.reader(infile, delimiter=\",\")\n",
    "        \n",
    "        first_line = next(reader)\n",
    "        has_headers = \"#\" in first_line[0]\n",
    "        ncol=len(first_line) # Read first line and count columns\n",
    "        if not has_headers:\n",
    "            infile.seek(0)\n",
    "        #print(first_line)\n",
    "        #infile.seek(0) \n",
    "        #has_header = csv.Sniffer().has_header(infile.read(1024))\n",
    "        #infile.seek(0)\n",
    "        #if has_header:\n",
    "         #   next(reader)\n",
    "        \n",
    "        all_cols = [[] for x in range(ncol)]\n",
    "        \n",
    "        for row in reader:\n",
    "            row_data = [float(col.strip()) for col in row] \n",
    "            all_cols = [listo+[data] for listo, data in zip(all_cols, row_data)]\n",
    "            \n",
    "        if has_headers:\n",
    "            first_line[0] = first_line[0].replace(\"#\", \"\")\n",
    "            first_line = [fl.strip() for fl in first_line]\n",
    "            return first_line, all_cols\n",
    "        else:\n",
    "            return all_cols"
   ]
  },
  {
   "cell_type": "code",
   "execution_count": null,
   "metadata": {},
   "outputs": [],
   "source": []
  }
 ],
 "metadata": {
  "kernelspec": {
   "display_name": "Python 3",
   "language": "python",
   "name": "python3"
  },
  "language_info": {
   "codemirror_mode": {
    "name": "ipython",
    "version": 3
   },
   "file_extension": ".py",
   "mimetype": "text/x-python",
   "name": "python",
   "nbconvert_exporter": "python",
   "pygments_lexer": "ipython3",
   "version": "3.4.9"
  }
 },
 "nbformat": 4,
 "nbformat_minor": 2
}
